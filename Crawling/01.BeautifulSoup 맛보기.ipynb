{
 "cells": [
  {
   "cell_type": "code",
   "execution_count": 1,
   "id": "ceeb93d9",
   "metadata": {},
   "outputs": [
    {
     "name": "stdout",
     "output_type": "stream",
     "text": [
      "<!DOCTYPE html>\n",
      "<html lang=\"en\">\n",
      "<head>\n",
      "    <meta charset=\"UTF-8\">\n",
      "    <meta name=\"viewport\" content=\"width=device-width, initial-scale=1.0\">\n",
      "    <title>Sample HTML Page</title>\n",
      "</head>\n",
      "<body>\n",
      "    <div id=\"header\">\n",
      "        <h1>Sample Homepage</h1>\n",
      "        <ul class=\"nav\">\n",
      "            <li>home</li>\n",
      "            <li>About</li>\n",
      "            <li>Contact</li>\n",
      "        </ul>\n",
      "    </div>\n",
      "    <div id=\"content\">\n",
      "        <h1>Content Title</h1>\n",
      "        <p>Lorem ipsum dolor sit amet, consectetur adipiscing elit. Phasellus interdum.</p>\n",
      "        <ul class=\"list\">\n",
      "            <li>Comment 1</li>\n",
      "            <li>Comment 2</li>\n",
      "            <li>Comment 3</li>\n",
      "            <li>Comment 4</li>\n",
      "        </ul>\n",
      "    </div>\n",
      "    <div id=\"footer\">\n",
      "        &copy; Bit Academy\n",
      "    </div>\n",
      "</body>\n",
      "</html>\n"
     ]
    }
   ],
   "source": [
    "# ../data/sample.html\n",
    "# 받아와서 분석\n",
    "# pip install bs4\n",
    "with open(\"../data/sample.html\", \"rt\") as f:\n",
    "    html_str = f.read()\n",
    "    \n",
    "print(html_str)"
   ]
  },
  {
   "cell_type": "code",
   "execution_count": 2,
   "id": "fb85c5e0",
   "metadata": {},
   "outputs": [
    {
     "data": {
      "text/plain": [
       "bs4.BeautifulSoup"
      ]
     },
     "execution_count": 2,
     "metadata": {},
     "output_type": "execute_result"
    }
   ],
   "source": [
    "# html text -> dom 객체로 변환\n",
    "# soup으로 만들기\n",
    "from bs4 import BeautifulSoup\n",
    "soup = BeautifulSoup(html_str)  # DOM으로 변환\n",
    "type(soup)"
   ]
  },
  {
   "cell_type": "code",
   "execution_count": 3,
   "id": "e01b2aec",
   "metadata": {
    "scrolled": true
   },
   "outputs": [
    {
     "name": "stdout",
     "output_type": "stream",
     "text": [
      "<!DOCTYPE html>\n",
      "<html lang=\"en\">\n",
      " <head>\n",
      "  <meta charset=\"utf-8\"/>\n",
      "  <meta content=\"width=device-width, initial-scale=1.0\" name=\"viewport\"/>\n",
      "  <title>\n",
      "   Sample HTML Page\n",
      "  </title>\n",
      " </head>\n",
      " <body>\n",
      "  <div id=\"header\">\n",
      "   <h1>\n",
      "    Sample Homepage\n",
      "   </h1>\n",
      "   <ul class=\"nav\">\n",
      "    <li>\n",
      "     home\n",
      "    </li>\n",
      "    <li>\n",
      "     About\n",
      "    </li>\n",
      "    <li>\n",
      "     Contact\n",
      "    </li>\n",
      "   </ul>\n",
      "  </div>\n",
      "  <div id=\"content\">\n",
      "   <h1>\n",
      "    Content Title\n",
      "   </h1>\n",
      "   <p>\n",
      "    Lorem ipsum dolor sit amet, consectetur adipiscing elit. Phasellus interdum.\n",
      "   </p>\n",
      "   <ul class=\"list\">\n",
      "    <li>\n",
      "     Comment 1\n",
      "    </li>\n",
      "    <li>\n",
      "     Comment 2\n",
      "    </li>\n",
      "    <li>\n",
      "     Comment 3\n",
      "    </li>\n",
      "    <li>\n",
      "     Comment 4\n",
      "    </li>\n",
      "   </ul>\n",
      "  </div>\n",
      "  <div id=\"footer\">\n",
      "   © Bit Academy\n",
      "  </div>\n",
      " </body>\n",
      "</html>\n"
     ]
    }
   ],
   "source": [
    "print(soup.prettify())"
   ]
  },
  {
   "cell_type": "code",
   "execution_count": 4,
   "id": "23325af7",
   "metadata": {},
   "outputs": [
    {
     "name": "stdout",
     "output_type": "stream",
     "text": [
      "문서의 title 태그 :  <title>Sample HTML Page</title> <class 'bs4.element.Tag'>\n"
     ]
    }
   ],
   "source": [
    "# title 태그를 뽑아서 내용을 확인\n",
    "title_tag = soup.title\n",
    "print(\"문서의 title 태그 : \", title_tag, type(title_tag))"
   ]
  },
  {
   "cell_type": "code",
   "execution_count": 5,
   "id": "bfc32f24",
   "metadata": {},
   "outputs": [
    {
     "name": "stdout",
     "output_type": "stream",
     "text": [
      "태그의 이름:  title\n",
      "태그의 콘텐츠:  Sample HTML Page\n"
     ]
    }
   ],
   "source": [
    "# 태그 내 콘텐츠 확인하려면 text 속성\n",
    "print(\"태그의 이름: \", title_tag.name)\n",
    "print(\"태그의 콘텐츠: \", title_tag.text)"
   ]
  },
  {
   "cell_type": "code",
   "execution_count": 10,
   "id": "53d3e685",
   "metadata": {},
   "outputs": [
    {
     "name": "stdout",
     "output_type": "stream",
     "text": [
      "<class 'list_iterator'>\n",
      "head <class 'bs4.element.Tag'>\n",
      "body <class 'bs4.element.Tag'>\n"
     ]
    }
   ],
   "source": [
    "# 문서 탐색 (Traversing)\n",
    "# 최상위 노드 (html 확인)\n",
    "html_tag = soup.html\n",
    "# print(html_tag.prettify())\n",
    "\n",
    "# 현재 태그의 자식들 : children\n",
    "children = html_tag.children\n",
    "print(type(children))  # <class 'list_iterator'>\n",
    "\n",
    "from bs4.element import Tag\n",
    "for child in children:\n",
    "    # 탐색에 있어 중요한 것은 Tag\n",
    "    # NavigableString -> DOM 트리 구조를 구축하기 위한 특수한 구분 기호\n",
    "    if isinstance(child, Tag):\n",
    "        print(child.name, type(child))"
   ]
  },
  {
   "cell_type": "code",
   "execution_count": 11,
   "id": "bc713432",
   "metadata": {},
   "outputs": [
    {
     "name": "stdout",
     "output_type": "stream",
     "text": [
      "True\n"
     ]
    }
   ],
   "source": [
    "# 부모 노드를 확인 : .parent\n",
    "print(soup.body.parent == soup.html) # body의 부모는 html"
   ]
  },
  {
   "cell_type": "code",
   "execution_count": 13,
   "id": "d12e1f2c",
   "metadata": {},
   "outputs": [
    {
     "name": "stdout",
     "output_type": "stream",
     "text": [
      "[<div id=\"header\">\n",
      "<h1>Sample Homepage</h1>\n",
      "<ul class=\"nav\">\n",
      "<li>home</li>\n",
      "<li>About</li>\n",
      "<li>Contact</li>\n",
      "</ul>\n",
      "</div>, <div id=\"content\">\n",
      "<h1>Content Title</h1>\n",
      "<p>Lorem ipsum dolor sit amet, consectetur adipiscing elit. Phasellus interdum.</p>\n",
      "<ul class=\"list\">\n",
      "<li>Comment 1</li>\n",
      "<li>Comment 2</li>\n",
      "<li>Comment 3</li>\n",
      "<li>Comment 4</li>\n",
      "</ul>\n",
      "</div>, <div id=\"footer\">\n",
      "        © Bit Academy\n",
      "    </div>]\n"
     ]
    }
   ],
   "source": [
    "# find 메서드를 이용한 객체 탐색\n",
    "# 태그를 이용한 검색\n",
    "# divs = soup.html.find(\"div\")  # 한개만 찾음\n",
    "divs = soup.html.findAll(\"div\")  # 매칭되는 모든 요소를 검색\n",
    "\n",
    "print(divs)"
   ]
  },
  {
   "cell_type": "code",
   "execution_count": 15,
   "id": "cf47bd18",
   "metadata": {},
   "outputs": [
    {
     "name": "stdout",
     "output_type": "stream",
     "text": [
      "list item:  Comment 1\n",
      "list item:  Comment 2\n",
      "list item:  Comment 3\n",
      "list item:  Comment 4\n"
     ]
    }
   ],
   "source": [
    "# 태그의 속성을 이용해 검색할 때 \n",
    "# 예시) class 속성이 list인 ul을 검색할 때\n",
    "list_ul = soup.body.find(\"ul\", {\"class\":\"list\"})\n",
    "\n",
    "# print(list_ul)\n",
    "# 검색된 ul의 자식노드 li를 순회하면서 출력\n",
    "for li in list_ul.children:\n",
    "    if isinstance(li, Tag):\n",
    "        print(\"list item: \", li.text)"
   ]
  },
  {
   "cell_type": "code",
   "execution_count": 16,
   "id": "738fe472",
   "metadata": {},
   "outputs": [
    {
     "name": "stdout",
     "output_type": "stream",
     "text": [
      "[<li>Comment 1</li>, <li>Comment 2</li>, <li>Comment 3</li>, <li>Comment 4</li>]\n"
     ]
    }
   ],
   "source": [
    "# CSS Selector를 이용해서 검색할 때 : select\n",
    "# id 셀렉터 : #id\n",
    "# class셀렉터 : .class\n",
    "# 자식 셀렉터 : > \n",
    "# 자손 셀렉터 : 공백\n",
    "list_ul = soup.body.select(\"ul.list > li\")\n",
    "\n",
    "print(list_ul) # 검색된 요소의 리스트"
   ]
  },
  {
   "cell_type": "code",
   "execution_count": null,
   "id": "dab67de6",
   "metadata": {},
   "outputs": [],
   "source": []
  }
 ],
 "metadata": {
  "kernelspec": {
   "display_name": "Python 3 (ipykernel)",
   "language": "python",
   "name": "python3"
  },
  "language_info": {
   "codemirror_mode": {
    "name": "ipython",
    "version": 3
   },
   "file_extension": ".py",
   "mimetype": "text/x-python",
   "name": "python",
   "nbconvert_exporter": "python",
   "pygments_lexer": "ipython3",
   "version": "3.10.9"
  }
 },
 "nbformat": 4,
 "nbformat_minor": 5
}
