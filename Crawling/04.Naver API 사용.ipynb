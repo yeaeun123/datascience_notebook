{
 "cells": [
  {
   "cell_type": "code",
   "execution_count": null,
   "id": "63d0227a",
   "metadata": {},
   "outputs": [],
   "source": [
    "from urllib.request import urlopen\n",
    "from urllib.parse import quote  # 인코딩 관련 함수\n",
    "from urllib.request import Request\n",
    "import json\n",
    "\n",
    "\n",
    "client_id = \"\"\n",
    "# client_secret = input(\"Enter client_secret:\")\n",
    "client_secret = \"\"\n",
    "\n",
    "# keyword = input(\"Enter Keyword:\")\n",
    "keyword = \"코로나\"\n",
    "enc_text = quote(keyword)\n",
    "\n",
    "url = f\"https://openapi.naver.com/v1/search/news.json?query={enc_text}\"\n",
    "\n",
    "# API 업체마다 header, 인증 정보 전달 방식이 다르다-> 문서를 확인 \n",
    "# Naver의 경우, X-Naver-Client_Id, X-Naver-Client_Secret 정보를 헤더로 제공\n",
    "\n",
    "request = Request(url)\n",
    "# 헤더 정보 조작\n",
    "request.add_header(\"X-Naver-Client-id\", client_id)\n",
    "request.add_header(\"X-Naver-Client-Secret\", client_secret)\n",
    "\n",
    "# 요청 전송\n",
    "response = urlopen(request)\n",
    "rescode = response.getcode()\n",
    "\n",
    "if rescode == 200:\n",
    "    response_body = response.read().decode(\"utf-8\")\n",
    "    py_rt = json.loads(response_body)  # text -> json 객체로 로드\n",
    "    \n",
    "#     print(py_rt)\n",
    "    news_list = py_rt[\"items\"]\n",
    "    \n",
    "    print(f\"뉴스 검색: 키워드 : {keyword} \")\n",
    "    print(\"===========================\")\n",
    "    \n",
    "    for news in news_list:\n",
    "        print(\"title: {title} @ {pubDate}\".format_map(news))\n",
    "    \n",
    "else:\n",
    "    print(f\"Error code:{rescode}\")\n"
   ]
  },
  {
   "cell_type": "code",
   "execution_count": null,
   "id": "fc1dd65a",
   "metadata": {},
   "outputs": [],
   "source": []
  }
 ],
 "metadata": {
  "kernelspec": {
   "display_name": "Python 3 (ipykernel)",
   "language": "python",
   "name": "python3"
  },
  "language_info": {
   "codemirror_mode": {
    "name": "ipython",
    "version": 3
   },
   "file_extension": ".py",
   "mimetype": "text/x-python",
   "name": "python",
   "nbconvert_exporter": "python",
   "pygments_lexer": "ipython3",
   "version": "3.10.9"
  }
 },
 "nbformat": 4,
 "nbformat_minor": 5
}
