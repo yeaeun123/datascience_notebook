{
 "cells": [
  {
   "cell_type": "code",
   "execution_count": 1,
   "id": "734d65d1",
   "metadata": {},
   "outputs": [
    {
     "data": {
      "text/plain": [
       "['anagrams',\n",
       " 'anscombe',\n",
       " 'attention',\n",
       " 'brain_networks',\n",
       " 'car_crashes',\n",
       " 'diamonds',\n",
       " 'dots',\n",
       " 'dowjones',\n",
       " 'exercise',\n",
       " 'flights',\n",
       " 'fmri',\n",
       " 'geyser',\n",
       " 'glue',\n",
       " 'healthexp',\n",
       " 'iris',\n",
       " 'mpg',\n",
       " 'penguins',\n",
       " 'planets',\n",
       " 'seaice',\n",
       " 'taxis',\n",
       " 'tips',\n",
       " 'titanic']"
      ]
     },
     "execution_count": 1,
     "metadata": {},
     "output_type": "execute_result"
    }
   ],
   "source": [
    "# anscombe 데이터셋을 시각화를 통해 matplotlib 시각화 방법과 함께 \n",
    "# 시각화의 중요성에 대해 알아봅시다.\n",
    "import seaborn as sns\n",
    "# 샘플 데이터셋 목록 확인\n",
    "sns.get_dataset_names()"
   ]
  },
  {
   "cell_type": "code",
   "execution_count": null,
   "id": "7fb9e2d6",
   "metadata": {},
   "outputs": [],
   "source": [
    "# anscombe 데이터셋 로드\n",
    "anscombe = sns.load_dataset(\"anscombe\")\n",
    "\n",
    "print(type(anscombe))\n",
    "anscombe"
   ]
  },
  {
   "cell_type": "code",
   "execution_count": null,
   "id": "290367c9",
   "metadata": {},
   "outputs": [],
   "source": [
    "# 데이터셋 구분자 확인\n",
    "anscombe['dataset'].unique()"
   ]
  },
  {
   "cell_type": "code",
   "execution_count": null,
   "id": "0f765094",
   "metadata": {},
   "outputs": [],
   "source": [
    "# 데이터셋의 개수 확인\n",
    "anscombe['dataset'].nunique()"
   ]
  },
  {
   "cell_type": "code",
   "execution_count": null,
   "id": "536ae08e",
   "metadata": {},
   "outputs": [],
   "source": [
    "# 하위 데이터셋 구분\n",
    "# anscombe['dataset'] == 'I'\n",
    "ds_1 = anscombe[anscombe['dataset'] == 'I']\n",
    "ds_2 = anscombe[anscombe['dataset'] == 'II']\n",
    "ds_3 = anscombe[anscombe['dataset'] == 'III']\n",
    "ds_4 = anscombe[anscombe['dataset'] == 'IV'] "
   ]
  },
  {
   "cell_type": "code",
   "execution_count": null,
   "id": "6ef4d237",
   "metadata": {},
   "outputs": [],
   "source": [
    "# dataset I\n",
    "ds_1"
   ]
  },
  {
   "cell_type": "code",
   "execution_count": null,
   "id": "7a9c517c",
   "metadata": {},
   "outputs": [],
   "source": [
    "# 데이터셋 I의 기초 통계량\n",
    "ds_1.describe()"
   ]
  },
  {
   "cell_type": "code",
   "execution_count": null,
   "id": "d939ad01",
   "metadata": {},
   "outputs": [],
   "source": [
    "# 데이터셋 II의 기초 통계량\n",
    "ds_2.describe()"
   ]
  },
  {
   "cell_type": "code",
   "execution_count": null,
   "id": "caaa43b3",
   "metadata": {},
   "outputs": [],
   "source": [
    "# 시각화 : dataset I 시각화 \n",
    "import matplotlib.pyplot as plt\n",
    "plt.plot(ds_1['x'], ds_1['y'], 'o')\n"
   ]
  },
  {
   "cell_type": "code",
   "execution_count": null,
   "id": "8795345b",
   "metadata": {},
   "outputs": [],
   "source": [
    "# dataset II -> 그래프로 \n",
    "plt.plot(ds_2['x'], ds_2['y'], '*')"
   ]
  },
  {
   "cell_type": "code",
   "execution_count": null,
   "id": "7810d96b",
   "metadata": {},
   "outputs": [],
   "source": [
    "import matplotlib.pyplot as plt\n",
    "# 4분할 그래프\n",
    "# 그래프의 기본 틀 생성 : figure\n",
    "fig = plt.figure()\n",
    "# 기본 틀에 격자 추가\n",
    "axes1 = fig.add_subplot(2, 2, 1)  # 2행 2열의 그래프 중 1번째 영역\n",
    "axes2 = fig.add_subplot(2, 2, 2) \n",
    "axes3 = fig.add_subplot(2, 2, 3)\n",
    "axes4 = fig.add_subplot(2, 2, 4)"
   ]
  },
  {
   "cell_type": "code",
   "execution_count": null,
   "id": "b831a909",
   "metadata": {},
   "outputs": [],
   "source": [
    "# 격자에 그래프 그리기\n",
    "axes1.plot(ds_1['x'], ds_1['y'], 'o')\n",
    "axes2.plot(ds_2['x'], ds_2['y'], '*', color=\"orange\")\n",
    "axes3.plot(ds_3['x'], ds_3['y'], 'v', color=\"green\")\n",
    "axes4.plot(ds_4['x'], ds_4['y'], '^', color=\"red\") \n",
    "\n",
    "fig"
   ]
  },
  {
   "cell_type": "code",
   "execution_count": null,
   "id": "58f5cf65",
   "metadata": {},
   "outputs": [],
   "source": [
    "# 서브플롯들에 타이틀 추가\n",
    "axes1.set_title(\"dataset I\")\n",
    "axes2.set_title(\"dataset II\")\n",
    "axes3.set_title(\"dataset III\")\n",
    "axes4.set_title(\"dataset IV\")\n",
    "\n",
    "fig"
   ]
  },
  {
   "cell_type": "code",
   "execution_count": null,
   "id": "07e68f9b",
   "metadata": {},
   "outputs": [],
   "source": [
    "# 전체 틀 (figure)의 타이틀 추가\n",
    "fig.suptitle(\"Anscombe Dataset\")\n",
    "fig\n"
   ]
  },
  {
   "cell_type": "code",
   "execution_count": null,
   "id": "3dee301b",
   "metadata": {},
   "outputs": [],
   "source": [
    "plt.show()"
   ]
  },
  {
   "cell_type": "code",
   "execution_count": null,
   "id": "29e08e63",
   "metadata": {},
   "outputs": [],
   "source": [
    "# 산점도 그래프 (Scatter Plot)\n",
    "# mtcars 데이터셋 \n",
    "import pandas as pd\n",
    "mtcars = pd.read_csv(\"./data/mtcars.csv\")\n",
    "mtcars"
   ]
  },
  {
   "cell_type": "code",
   "execution_count": null,
   "id": "e6a3c5c7",
   "metadata": {},
   "outputs": [],
   "source": [
    "# EDA 방식의 데이터 분석 \n",
    "print(\"데이터의 크기:\", mtcars.shape)  # 32행 12열 "
   ]
  },
  {
   "cell_type": "code",
   "execution_count": null,
   "id": "5aa0d232",
   "metadata": {},
   "outputs": [],
   "source": [
    "# 앞쪽 데이터 확인\n",
    "mtcars.head()"
   ]
  },
  {
   "cell_type": "code",
   "execution_count": null,
   "id": "58b8ea17",
   "metadata": {},
   "outputs": [],
   "source": [
    "# 뒤쪽 데이터 확인\n",
    "mtcars.tail()"
   ]
  },
  {
   "cell_type": "code",
   "execution_count": null,
   "id": "446b55f7",
   "metadata": {},
   "outputs": [],
   "source": [
    "# 기초 통계량 확인 \n",
    "mtcars.describe()"
   ]
  },
  {
   "cell_type": "code",
   "execution_count": null,
   "id": "4937192c",
   "metadata": {},
   "outputs": [],
   "source": [
    "# mpg(y축) vs wt(x축) -> 산점도로 시각화 \n",
    "import matplotlib.pyplot as plt\n",
    "\n",
    "fig = plt.figure()  # 틀\n",
    "axe = fig.add_subplot(1, 1, 1)  # 1행 1열의 1번째 축\n",
    "axe.scatter(mtcars['wt'], mtcars['mpg'])\n",
    "axe.set_title(\"mtcars wt vs mpg\")\n",
    "axe.set_xlabel(\"Weight\")\n",
    "axe.set_ylabel(\"Miles per Gallon\")\n",
    "\n",
    "plt.show()"
   ]
  },
  {
   "cell_type": "code",
   "execution_count": null,
   "id": "4e6aa055",
   "metadata": {},
   "outputs": [],
   "source": [
    "# 상관 계수\n",
    "print(\"상관계수(wt vs mpg)\")\n",
    "mtcars.corr()"
   ]
  },
  {
   "cell_type": "code",
   "execution_count": null,
   "id": "fe7b382a",
   "metadata": {},
   "outputs": [],
   "source": [
    "# wt vs mpg 의 상관계수\n",
    "print(\"wt vs mpg의 상관계수:\\n\", mtcars[['wt', 'mpg']].corr())\n",
    "# 중량과 연비간에는 역상관관계가 성립하는 것 같다고 추정 "
   ]
  },
  {
   "cell_type": "code",
   "execution_count": null,
   "id": "25b751b4",
   "metadata": {},
   "outputs": [],
   "source": [
    "# boxplot\n",
    "boxplot = plt.figure()\n",
    "boxplot_axe = boxplot.add_subplot(1, 1, 1)\n",
    "boxplot_axe.boxplot([mtcars['mpg'], mtcars['wt']])\n",
    "boxplot.suptitle(\"Boxplot of mtcars\")\n",
    "boxplot_axe.set_ylabel(\"mpg\")\n",
    "plt.show()"
   ]
  },
  {
   "cell_type": "code",
   "execution_count": null,
   "id": "e8f4555d",
   "metadata": {},
   "outputs": [],
   "source": [
    "# IQR 확인 \n",
    "quartiles = mtcars['mpg'].quantile([0.25, 0.5, 0.75])  # 1사분위수, 2사분위수(중앙값), 3사분위수\n",
    "first_quartile = quartiles.iloc[0]\n",
    "third_quartile = quartiles.iloc[2]\n",
    "\n",
    "first_quartile ,third_quartile \n"
   ]
  },
  {
   "cell_type": "code",
   "execution_count": null,
   "id": "5e85d01b",
   "metadata": {},
   "outputs": [],
   "source": [
    "iqr = third_quartile - first_quartile\n",
    "print(\"mpg의 IQR:\", iqr)"
   ]
  },
  {
   "cell_type": "code",
   "execution_count": null,
   "id": "4c9c7968",
   "metadata": {},
   "outputs": [],
   "source": [
    "# 3사분위수 + IQR * 1.5 -> 상단 극단치 경계\n",
    "# 1사분위수 - IQR * 1.5 -> 하단 극단치 경계\n",
    "border_top = third_quartile + iqr * 1.5\n",
    "print(\"상단 극단치 경계:\", border_top)\n",
    "border_bottom = first_quartile - iqr * 1.5\n",
    "print(\"하단 극단치 경계:\", border_bottom)"
   ]
  },
  {
   "cell_type": "code",
   "execution_count": null,
   "id": "d6486e33",
   "metadata": {},
   "outputs": [],
   "source": [
    "# 상단 극단치 경계를 넘는 mpg 추출 -> 그 제품이 무엇인가?\n",
    "mpg_outliers = mtcars[mtcars['mpg'] > border_top]\n",
    "\n",
    "print(\"Outliers:\")\n",
    "mpg_outliers"
   ]
  },
  {
   "cell_type": "code",
   "execution_count": null,
   "id": "eba2775e",
   "metadata": {},
   "outputs": [],
   "source": []
  }
 ],
 "metadata": {
  "kernelspec": {
   "display_name": "Python 3 (ipykernel)",
   "language": "python",
   "name": "python3"
  },
  "language_info": {
   "codemirror_mode": {
    "name": "ipython",
    "version": 3
   },
   "file_extension": ".py",
   "mimetype": "text/x-python",
   "name": "python",
   "nbconvert_exporter": "python",
   "pygments_lexer": "ipython3",
   "version": "3.12.4"
  }
 },
 "nbformat": 4,
 "nbformat_minor": 5
}
